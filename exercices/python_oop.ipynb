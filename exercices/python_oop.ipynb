{
 "cells": [
  {
   "cell_type": "markdown",
   "metadata": {},
   "source": [
    "## Exercise 1:\n",
    "\n",
    "- consedering the following code\n",
    "\n",
    "```python\n",
    "import datetime # we will use this for date objects\n",
    "\n",
    "class Person:\n",
    "\n",
    "    def __init__(self, name, surname, birthdate, address, telephone, email):\n",
    "        self.name = name\n",
    "        self.surname = surname\n",
    "        self.birthdate = birthdate\n",
    "\n",
    "        self.address = address\n",
    "        self.telephone = telephone\n",
    "        self.email = email\n",
    "\n",
    "    def age(self):\n",
    "        today = datetime.date.today()\n",
    "        age = today.year - self.birthdate.year\n",
    "\n",
    "        if today < datetime.date(today.year, self.birthdate.month, self.birthdate.day):\n",
    "            age -= 1\n",
    "\n",
    "        return age\n",
    "\n",
    "person = Person(\n",
    "    \"Jane\",\n",
    "    \"Doe\",\n",
    "    datetime.date(1992, 3, 12), # year, month, day\n",
    "    \"No. 12 Short Street, Greenville\",\n",
    "    \"555 456 0987\",\n",
    "    \"jane.doe@example.com\"\n",
    ")\n",
    "\n",
    "print(person.name)\n",
    "print(person.email)\n",
    "print(person.age())\n",
    "```\n",
    "Explain what the following variables refer to, and their scope:\n",
    "1. Person\n",
    "2. person\n",
    "3. surname\n",
    "4. self\n",
    "5. age (the function name)\n",
    "6. age (the variable used inside the function)\n",
    "7. self.email\n",
    "8. person.email"
   ]
  },
  {
   "cell_type": "markdown",
   "metadata": {},
   "source": [
    "### write your answer here\n",
    "1.  C'est un nouveau type de variable creer par l'utilisateur(il n'est pas predefinit)\n",
    "2.  declaration d'une variable de type Person\n",
    "3.  attribut de la classe\n",
    "4.  l'instance de la classe\n",
    "5.  c'est la methode calculant l'age \n",
    "6.  \n",
    "7.  ...\n",
    "8.  ..."
   ]
  },
  {
   "cell_type": "markdown",
   "metadata": {},
   "source": [
    "## Exercise 2\n",
    "1. Rewrite the `Person` class so that a person’s age is calculated for the first time when a new person instance is created, and recalculated (when it is requested) if the day has changed since the last time that it was calculated."
   ]
  },
  {
   "cell_type": "code",
   "execution_count": 1,
   "metadata": {},
   "outputs": [
    {
     "name": "stdout",
     "output_type": "stream",
     "text": [
      "Jane\n",
      "jane.doe@example.com\n",
      "29\n"
     ]
    }
   ],
   "source": [
    "import datetime \n",
    "\n",
    "\n",
    "class Person:\n",
    "\n",
    "    def __init__(self, name, surname, birthdate, address, telephone, email):\n",
    "        self.name = name\n",
    "        self.surname = surname\n",
    "        self.birthdate = birthdate\n",
    "        \n",
    "        self.address = address\n",
    "        self.telephone = telephone\n",
    "        self.email = email\n",
    "        self.age = self.age()\n",
    "        \n",
    "        \n",
    "\n",
    "    def age(self):\n",
    "        today = datetime.date.today()\n",
    "        \n",
    "        age = today.year - self.birthdate.year\n",
    "\n",
    "        if today < datetime.date(today.year, self.birthdate.month, self.birthdate.day):\n",
    "            age -= 1\n",
    "\n",
    "        return age\n",
    "\n",
    "person = Person(\n",
    "    \"Jane\",\n",
    "    \"Doe\",\n",
    "    datetime.date(1992, 3, 12), # year, month, day\n",
    "    \"No. 12 Short Street, Greenville\",\n",
    "    \"555 456 0987\",\n",
    "    \"jane.doe@example.com\",\n",
    ")\n",
    "\n",
    "print(person.name)\n",
    "print(person.email)\n",
    "print(person.age)\n"
   ]
  },
  {
   "cell_type": "markdown",
   "metadata": {},
   "source": [
    "## Exercise 3\n",
    "1. Explain the differences between the attributes `name`, `surname` and `profession`, and what values they can have in different instances of this class:\n",
    "```python\n",
    "class Smith:\n",
    "    surname = \"Smith\"\n",
    "    profession = \"smith\"\n",
    "\n",
    "    def __init__(self, name, profession=None):\n",
    "        self.name = name\n",
    "        if profession is not None:\n",
    "            self.profession = profession\n",
    "```"
   ]
  },
  {
   "cell_type": "code",
   "execution_count": 14,
   "metadata": {
    "scrolled": true
   },
   "outputs": [],
   "source": [
    "name is an instance attribute, and each class instance can have a different name value.\n",
    "surname is a class attribute, and cannot be overridden in the constructor.\n",
    "profession is a class attribute, but it can optionally be overridden by an instance \n",
    "attribute in the constructor. "
   ]
  },
  {
   "cell_type": "markdown",
   "metadata": {},
   "source": [
    "# Exercise 4:\n",
    "1. Create a class called `Numbers`, which has a single class attribute called `MULTIPLIER`, and a constructor which takes the parameters `x` and `y` (these should all be numbers).\n",
    "    1. Write a method called `add` which returns the sum of the attributes `x` and `y`.\n",
    "    2. Write a class method called `multiply`, which takes a single number parameter `a` and returns the product of `a` and `MULTIPLIER`.\n",
    "    3. Write a static method called `subtract`, which takes two number parameters, `b` and `c`, and returns `b - c`.\n",
    "    4. Write a method called `value` which returns a tuple containing the values of `x` and `y`. Make this method into a property, and write a setter and a deleter for manipulating the values of `x` and `y`."
   ]
  },
  {
   "cell_type": "code",
   "execution_count": 19,
   "metadata": {},
   "outputs": [
    {
     "name": "stdout",
     "output_type": "stream",
     "text": [
      "2\n",
      "160\n",
      "-2\n",
      "(70, 90)\n"
     ]
    }
   ],
   "source": [
    "class Numbers:\n",
    "    MULTIPLIER = 1\n",
    "    def __init__(self,x,y):\n",
    "        self.x = x\n",
    "        self.y = y\n",
    "         \n",
    "    def Add(self):\n",
    "        S = self.x + self.y\n",
    "        return S\n",
    "    \n",
    "    def multiply(self,a):\n",
    "        Numbers.MULTIPLIER = Numbers.MULTIPLIER * a\n",
    "        return Numbers.MULTIPLIER\n",
    "    \n",
    "    @staticmethod\n",
    "    def subtract(b,c):\n",
    "        return b-c\n",
    "    \n",
    "    def value(self):\n",
    "        tup = (self.x,self.y)\n",
    "        return tup\n",
    "    \n",
    "numbers = Numbers(\n",
    "       70,90)\n",
    "print(numbers.multiply(2))\n",
    "print(numbers.Add())\n",
    "print(numbers.subtract(7,9))\n",
    "print(numbers.value())"
   ]
  },
  {
   "cell_type": "markdown",
   "metadata": {},
   "source": [
    "## Exercise 5:\n",
    "1. Create an instance of the `Person` class from example 2. Use the `dir` function on the instance. Then use the `dir` function on the class.\n",
    "    1. What happens if you call the `__str__` method on the instance? Verify that you get the same result if you call the `str` function with the instance as a parameter.\n",
    "    2. What is the type of the instance?\n",
    "    3. What is the type of the class?\n",
    "    4. Write a function which prints out the names and values of all the custom attributes of any object that is passed in as a parameter."
   ]
  },
  {
   "cell_type": "code",
   "execution_count": 35,
   "metadata": {},
   "outputs": [
    {
     "name": "stdout",
     "output_type": "stream",
     "text": [
      "the name is:  ibtihal\n",
      "----------------------------------------------------------------------\n",
      "the email is:  ibtihal.elbanouri@example.com\n",
      "----------------------------------------------------------------------\n",
      "the age is:  19  yo\n",
      "----------------------------------------------------------------------\n",
      "['__class__', '__delattr__', '__dict__', '__dir__', '__doc__', '__eq__', '__format__', '__ge__', '__getattribute__', '__gt__', '__hash__', '__init__', '__init_subclass__', '__le__', '__lt__', '__module__', '__ne__', '__new__', '__reduce__', '__reduce_ex__', '__repr__', '__setattr__', '__sizeof__', '__str__', '__subclasshook__', '__weakref__', 'address', 'age', 'birthdate', 'email', 'name', 'print_attrs', 'surname', 'telephone']\n",
      "----------------------------------------------------------------------\n",
      "['__class__', '__delattr__', '__dict__', '__dir__', '__doc__', '__eq__', '__format__', '__ge__', '__getattribute__', '__gt__', '__hash__', '__init__', '__init_subclass__', '__le__', '__lt__', '__module__', '__ne__', '__new__', '__reduce__', '__reduce_ex__', '__repr__', '__setattr__', '__sizeof__', '__str__', '__subclasshook__', '__weakref__', 'age', 'print_attrs']\n",
      "----------------------------------------------------------------------\n",
      "<__main__.Person object at 0x106c57ca0>\n",
      "<__main__.Person object at 0x106c57ca0>\n",
      "----------------------------------------------------------------------\n",
      "the type of the instance is Person \n",
      "----------------------------------------------------------------------\n",
      "<class 'type'>\n",
      "----------------------------------------------------------------------\n",
      "the type of the class is type \n",
      "----------------------------------------------------------------------\n",
      "name : ibtihal\n",
      "surname : el banouri\n",
      "birthdate : 2002-09-14\n",
      "address : No. 12 Short Street, Greenville\n",
      "telephone : 555 456 0987\n",
      "email : ibtihal.elbanouri@example.com\n",
      "age : 19\n",
      "None\n"
     ]
    }
   ],
   "source": [
    "import datetime \n",
    "\n",
    "\n",
    "class Person:\n",
    "\n",
    "    def __init__(self, name, surname, birthdate, address, telephone, email):\n",
    "        self.name = name\n",
    "        self.surname = surname\n",
    "        self.birthdate = birthdate\n",
    "        \n",
    "        self.address = address\n",
    "        self.telephone = telephone\n",
    "        self.email = email\n",
    "        self.age = self.age()\n",
    "    \n",
    "    def age(self):\n",
    "        today = datetime.date.today()\n",
    "        \n",
    "        age = today.year - self.birthdate.year\n",
    "\n",
    "        if today < datetime.date(today.year, self.birthdate.month, self.birthdate.day):\n",
    "            age -= 1\n",
    "\n",
    "        return age\n",
    "    def print_attrs(x):\n",
    "        for k, v in x.__dict__.items():\n",
    "            print(\"%s : %s\" % (k, v))\n",
    "\n",
    "person = Person(\n",
    "    \"ibtihal\",\n",
    "    \"el banouri\",\n",
    "    datetime.date(2002, 9, 14), # year, month, day\n",
    "    \"No. 12 Short Street, Greenville\",\n",
    "    \"555 456 0987\",\n",
    "    \"ibtihal.elbanouri@example.com\",\n",
    ")\n",
    "\n",
    "print(\"the name is: \",person.name)\n",
    "print(\"----------------------------------------------------------------------\")\n",
    "print(\"the email is: \",person.email)\n",
    "print(\"----------------------------------------------------------------------\")\n",
    "print(\"the age is: \",person.age,\" yo\")\n",
    "print(\"----------------------------------------------------------------------\")\n",
    "print(dir(person))\n",
    "print(\"----------------------------------------------------------------------\")\n",
    "print(dir(Person))\n",
    "print(\"----------------------------------------------------------------------\")\n",
    "print(person.__str__())\n",
    "print(str(person))\n",
    "print(\"----------------------------------------------------------------------\")\n",
    "print(\"the type of the instance is Person \")\n",
    "print(\"----------------------------------------------------------------------\")\n",
    "print(type(Person))\n",
    "print(\"----------------------------------------------------------------------\")\n",
    "print(\"the type of the class is type \")\n",
    "print(\"----------------------------------------------------------------------\")\n",
    "print(Person.print_attrs(person))\n"
   ]
  },
  {
   "cell_type": "markdown",
   "metadata": {},
   "source": [
    "## Exercise 6:\n",
    "Write a class for creating completely generic objects: its `__init__` function should accept any number of keyword parameters, and set them on the object as attributes with the keys as names. Write a `__str__` method for the class – the string it returns should include the name of the class and the values of all the object’s custom instance attributes."
   ]
  },
  {
   "cell_type": "code",
   "execution_count": 50,
   "metadata": {},
   "outputs": [],
   "source": [
    "\n",
    "class Class:\n",
    "    def __init__(self, **kwargs):\n",
    "        for key, value in kwargs.items():\n",
    "            setattr(self, key, value)\n",
    "    def __str__(self):\n",
    "        attributs = [\"%s=%s\" % (k, v) for (k, v) in self.__dict__.items()]\n",
    "        Class = self.__class__.__name__\n",
    "        return \"%s: %s\" % (Class, \" \".join(attributs))\n",
    "\n",
    "\n",
    "        \n",
    "\n"
   ]
  },
  {
   "cell_type": "code",
   "execution_count": null,
   "metadata": {},
   "outputs": [],
   "source": []
  }
 ],
 "metadata": {
  "kernelspec": {
   "display_name": "Python 3 (ipykernel)",
   "language": "python",
   "name": "python3"
  },
  "language_info": {
   "codemirror_mode": {
    "name": "ipython",
    "version": 3
   },
   "file_extension": ".py",
   "mimetype": "text/x-python",
   "name": "python",
   "nbconvert_exporter": "python",
   "pygments_lexer": "ipython3",
   "version": "3.9.9"
  }
 },
 "nbformat": 4,
 "nbformat_minor": 2
}
