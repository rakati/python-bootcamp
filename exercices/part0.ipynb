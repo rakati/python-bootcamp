{
 "cells": [
  {
   "cell_type": "markdown",
   "id": "66a0a543",
   "metadata": {},
   "source": [
    "# Python Basic Exercises"
   ]
  },
  {
   "cell_type": "markdown",
   "id": "0c1cd8ec",
   "metadata": {},
   "source": [
    "## Exercise 0:\n",
    "\n",
    "create a program that take a name from a user and print hello with the name of the user.\n",
    "- Example:\n",
    "\n",
    "``` input: Hamid```\n",
    "\n",
    "```output: Hello Hamid```\n"
   ]
  },
  {
   "cell_type": "code",
   "execution_count": 1,
   "id": "b9fe2983",
   "metadata": {},
   "outputs": [
    {
     "name": "stdout",
     "output_type": "stream",
     "text": [
      "Enter your name yubjkj\n",
      "hello yubjkj\n"
     ]
    }
   ],
   "source": [
    "name = input(\"Enter your name \")\n",
    "print(\"hello\", name)"
   ]
  },
  {
   "cell_type": "markdown",
   "id": "4884c029",
   "metadata": {},
   "source": [
    "## Exercise 1:\n",
    "\n",
    "write a program that take a string from a user, and print the string with capitalize the vowels letters {a, o, u, i, e}.\n",
    "\n",
    "**Example:**\n",
    "\n",
    "`hello world`\n",
    "\n",
    "**output:**\n",
    "\n",
    "`hEllO wOrld`"
   ]
  },
  {
   "cell_type": "code",
   "execution_count": 6,
   "id": "a3f8d6f4",
   "metadata": {},
   "outputs": [
    {
     "name": "stdout",
     "output_type": "stream",
     "text": [
      "hello bety\n",
      "h E l l O   b E t y "
     ]
    }
   ],
   "source": [
    "# your code goes here\n",
    "txt = input()\n",
    "for i in txt:\n",
    "    if i in \"aouie\":\n",
    "        print(i.upper(),end = \" \")\n",
    "    else:\n",
    "        print(i,end = \" \")"
   ]
  },
  {
   "cell_type": "markdown",
   "id": "ab24c130",
   "metadata": {},
   "source": [
    "## Exercise 2:\n",
    "\n",
    "create a program that take a two numbers from a user and print their sum and multiplication.\n",
    "- Example:\n",
    "\n",
    "```\n",
    "input 1: 3\n",
    "input 2: 4\n",
    "```\n",
    "\n",
    "```\n",
    "program output:\n",
    "\n",
    "multiplication of 3 and 4 is 12\n",
    "sum of 3 and 4 is 7\n",
    "```\n"
   ]
  },
  {
   "cell_type": "code",
   "execution_count": 11,
   "id": "08a81476",
   "metadata": {},
   "outputs": [],
   "source": [
    "# write your program here\n",
    "# ....\n",
    "def summ(x,y):\n",
    "    z = x + y\n",
    "    print(\"sum is :\", z)\n",
    "\n",
    "def multi(x,y):\n",
    "    s = x * y \n",
    "    print(\"multiplication is\",s)\n",
    "\n",
    "multi(3,4)\n",
    "summ(3,4)"
   ]
  },
  {
   "cell_type": "markdown",
   "id": "42cfa564",
   "metadata": {},
   "source": [
    "## Exercise 3: \n",
    "\n",
    "Display three string “Name”, “Is”, “James” as “Name**Is**James”\n",
    "\n",
    "Use the print() function to format the given words in the mentioned format. Display the ** separator between each string.\n",
    "\n",
    "**Expected Output:**\n",
    "\n",
    "For example: print('Name', 'Is', 'James') will display Name**Is**James"
   ]
  },
  {
   "cell_type": "code",
   "execution_count": 1,
   "id": "4c4b071b",
   "metadata": {},
   "outputs": [],
   "source": [
    "# write your code here\n",
    "def Nospace(x,y,z):\n",
    "    a = x + y + z\n",
    "    print(a)\n",
    "Nospace('imane','merry','bety')"
   ]
  },
  {
   "cell_type": "markdown",
   "id": "df1581eb",
   "metadata": {},
   "source": [
    "## Exercise 4:\n",
    "\n",
    "Print First 10 natural numbers using while loop\n",
    "\n",
    "*Expected output:*\n",
    "```\n",
    "1\n",
    "2\n",
    "3\n",
    "4\n",
    "5\n",
    "6\n",
    "7\n",
    "8\n",
    "9\n",
    "10\n",
    "```"
   ]
  },
  {
   "cell_type": "code",
   "execution_count": 3,
   "id": "bf55b679",
   "metadata": {},
   "outputs": [],
   "source": [
    "# exercise 3 code here\n",
    "for x in range(11):\n",
    "    print(x) \n",
    "def num_10(): \n",
    "    x = 0 \n",
    "    while(x <= 10): \n",
    "        print(x) \n",
    "        x += 1\n",
    "num_10()"
   ]
  },
  {
   "cell_type": "markdown",
   "id": "7cffa172",
   "metadata": {},
   "source": [
    "## Exercise 5:\n",
    "\n",
    "Write a program to print the following number pattern using a loop.\n",
    "```\n",
    "1 \n",
    "1 2 \n",
    "1 2 3 \n",
    "1 2 3 4 \n",
    "1 2 3 4 5\n",
    "```"
   ]
  },
  {
   "cell_type": "code",
   "execution_count": 4,
   "id": "cdb3264a",
   "metadata": {},
   "outputs": [],
   "source": [
    "# write your program here\n",
    "n = int(input('inter an integer'))\n",
    "x = '1'\n",
    "print(x)\n",
    "for i in range (2,n+1):\n",
    "    \n",
    "    x = x + \" \" + str(i)\n",
    "    print(x)"
   ]
  },
  {
   "cell_type": "markdown",
   "id": "d2b20a44",
   "metadata": {},
   "source": [
    "## Exercise 5:\n",
    "- write a program that take a number from the user and print the multiplication table of that number.\n",
    "\n",
    "** Example:**\n",
    "5\n",
    "```\n",
    "1 * 5 = 5\n",
    "2 * 5 = 10\n",
    "...\n",
    "12 * 5 = 60\n",
    "```"
   ]
  },
  {
   "cell_type": "code",
   "execution_count": 5,
   "id": "f5350502",
   "metadata": {},
   "outputs": [],
   "source": [
    "# your program goes here\n",
    "num = int(input(\"enter your number\"))\n",
    "for i in range(1,13):\n",
    "    x = i * num\n",
    "    print ( i,\"*\",num,\" \",\"=\",\" \",x)"
   ]
  },
  {
   "cell_type": "markdown",
   "id": "16fedacf",
   "metadata": {},
   "source": [
    "## Exercise 6: Calculate the multiplication and sum of two numbers"
   ]
  },
  {
   "cell_type": "markdown",
   "id": "6d5db219",
   "metadata": {},
   "source": [
    "Given two integer numbers return their product only if the product is greater than 1000, else return their sum.\n",
    "\n",
    "- given 1:\n",
    "```python\n",
    "number1 = 20\n",
    "number2 = 30\n",
    "```\n",
    "- output:\n",
    "```\n",
    "The result is 600\n",
    "```\n",
    "- given 2:\n",
    "```python\n",
    "number1 = 40\n",
    "number2 = 30\n",
    "```\n",
    "- output:\n",
    "```\n",
    "The result is 70\n",
    "```"
   ]
  },
  {
   "cell_type": "code",
   "execution_count": 6,
   "id": "792fc9d7",
   "metadata": {},
   "outputs": [],
   "source": [
    "num1 = int(input(\"plz enter a number: \"))\n",
    "num2 = int(input(\"plz enter a number: \"))\n",
    "p = num1 * num2\n",
    "if ((p) > 1000):\n",
    "    print(p)\n",
    "else:\n",
    "    print (num1 + num2)"
   ]
  },
  {
   "cell_type": "markdown",
   "id": "7be4b877",
   "metadata": {},
   "source": [
    "## Exercise 5:\n",
    "\n",
    "Check if the first and last number of a list is the same\n",
    "Write a function to return `True` if the first and last number of a given list is same. If numbers are different then return `False`.\n",
    "\n",
    "**Given:**\n",
    "```python\n",
    "numbers_x = [10, 20, 30, 40, 10]\n",
    "numbers_y = [75, 65, 35, 75, 30]\n",
    "```\n",
    "\n",
    "**Expected Output:**\n",
    "```\n",
    "Given list: [10, 20, 30, 40, 10]\n",
    "result is True\n",
    "\n",
    "numbers_y = [75, 65, 35, 75, 30]\n",
    "result is False\n",
    "```"
   ]
  },
  {
   "cell_type": "code",
   "execution_count": 5,
   "id": "242e0d0a",
   "metadata": {},
   "outputs": [
    {
     "name": "stdout",
     "output_type": "stream",
     "text": [
      "plz enter number of element: 3\n",
      "\n",
      "Enter the numbers : 1 2 1\n",
      "\n",
      "List is :  [1, 2, 1]\n",
      "plz enter number of element: 3\n",
      "\n",
      "Enter the numbers : 1 1 4\n",
      "\n",
      "List is :  [1, 1, 4]\n",
      "list given:  [1, 2, 1]\n",
      "result is True\n",
      "list given:  [1, 1, 4]\n",
      "result is False\n"
     ]
    }
   ],
   "source": [
    "n = int(input(\"plz enter number of element: \"))\n",
    "a = list(map(int,input(\"\\nEnter the numbers : \").strip().split()))[:n]\n",
    "print(\"\\nList is : \", a)\n",
    "m = int(input(\"plz enter number of element: \"))\n",
    "b = list(map(int,input(\"\\nEnter the numbers : \").strip().split()))[:n]\n",
    "print(\"\\nList is : \", b)\n",
    "\n",
    "\n",
    "   \n",
    "print('list given: ',a)\n",
    "if a[0] == a[-1]:\n",
    "    print('result is True')\n",
    "else:\n",
    "    print(\"result is False\") \n",
    "    \n",
    "print('list given: ',b)    \n",
    "if b[0] == b[-1]:\n",
    "    print('result is True')\n",
    "else:\n",
    "    print(\"result is False\") \n",
    "\n"
   ]
  },
  {
   "cell_type": "code",
   "execution_count": null,
   "id": "1a0a5e50",
   "metadata": {},
   "outputs": [],
   "source": []
  }
 ],
 "metadata": {
  "kernelspec": {
   "display_name": "Python 3 (ipykernel)",
   "language": "python",
   "name": "python3"
  },
  "language_info": {
   "codemirror_mode": {
    "name": "ipython",
    "version": 3
   },
   "file_extension": ".py",
   "mimetype": "text/x-python",
   "name": "python",
   "nbconvert_exporter": "python",
   "pygments_lexer": "ipython3",
   "version": "3.9.9"
  }
 },
 "nbformat": 4,
 "nbformat_minor": 5
}
