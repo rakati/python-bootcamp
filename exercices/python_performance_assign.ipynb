{
 "cells": [
  {
   "cell_type": "markdown",
   "metadata": {},
   "source": [
    "<h1 align=\"center\">Python performance exercises</h1>"
   ]
  },
  {
   "cell_type": "markdown",
   "metadata": {},
   "source": [
    "## Python best practices exercises"
   ]
  },
  {
   "cell_type": "markdown",
   "metadata": {},
   "source": [
    "### Exercise 1\n",
    "\n",
    "considering the following function for concatenating list strings with deliter."
   ]
  },
  {
   "cell_type": "code",
   "execution_count": 85,
   "metadata": {},
   "outputs": [],
   "source": [
    "import time\n",
    "def ft_concatenate(l_strings, d):\n",
    "    \"\"\"concatenate list of strings into one string separated by delimeter\"\"\"\n",
    "    res = l_strings[0]\n",
    "    for e in l_strings[1:]:\n",
    "        res = res + d + e\n",
    "    return res"
   ]
  },
  {
   "cell_type": "markdown",
   "metadata": {},
   "source": [
    "- profile the function and identify the bottlenecks.\n",
    "- improve speed up of the function\n",
    "*Hint: you may need to look to the string functions in python documentation*"
   ]
  },
  {
   "cell_type": "code",
   "execution_count": 86,
   "metadata": {},
   "outputs": [
    {
     "name": "stdout",
     "output_type": "stream",
     "text": [
      "t y t y b e t y\n",
      "t y t y b e t y\n",
      "execution time for ft_concatenate is : 0.0005350112915039062 seconds\n",
      "execution time for ft_concatenate_opt is : 0.00012183189392089844 seconds\n"
     ]
    }
   ],
   "source": [
    "# write your code here\n",
    "def ft_concatenate_opt(l_strings, d):\n",
    "   return d.join(l_strings)\n",
    "\n",
    "start1 = time.time()\n",
    "print(ft_concatenate(\"tytybety\",\" \"))\n",
    "end1 = time.time()\n",
    "start2 = time.time()\n",
    "print(ft_concatenate_opt(\"tytybety\",\" \"))\n",
    "end2 = time.time()\n",
    "print(\"execution time for ft_concatenate is :\",end1 -start1 , \"seconds\")\n",
    "print(\"execution time for ft_concatenate_opt is :\",end2 -start2 , \"seconds\")\n"
   ]
  },
  {
   "cell_type": "markdown",
   "metadata": {},
   "source": [
    "### Exercise 2\n",
    "\n",
    "In this exercise you will solve the following problem using two methods bruteforce mehode, and fast method.\n",
    "\n",
    "**Problem:** You are given a list of n integers, and your task is to calculate the number of distinct values in the list.\n",
    "\n",
    "**Example**\n",
    "- Input:\n",
    "5\n",
    "2 3 2 2 3\n",
    "\n",
    "- Output:\n",
    "2\n",
    "\n",
    "**Implement the following methodes:**\n",
    "\n",
    "1. **bruteforce mehode:** create an empty list and start adding items for the given list without adding the previous item add, at the end the result list will contain unique values, print lenght of the list and you are done. \n",
    "2. **fast method** think of using Set data structure.\n",
    "\n",
    "- time the two methods, what do you think?"
   ]
  },
  {
   "cell_type": "code",
   "execution_count": 87,
   "metadata": {},
   "outputs": [
    {
     "data": {
      "text/plain": [
       "3"
      ]
     },
     "execution_count": 87,
     "metadata": {},
     "output_type": "execute_result"
    }
   ],
   "source": [
    "# bruteforce fast method\n",
    "def num_dist(L):\n",
    "    l = []\n",
    "    for i in range(len(L)):\n",
    "        if L[i] not in l:\n",
    "            l.append(L[i])\n",
    "    return len(l)\n",
    "L =[5,2,3,2,2,3]\n",
    "num_dist(L)"
   ]
  },
  {
   "cell_type": "code",
   "execution_count": 88,
   "metadata": {},
   "outputs": [
    {
     "data": {
      "text/plain": [
       "5"
      ]
     },
     "execution_count": 88,
     "metadata": {},
     "output_type": "execute_result"
    }
   ],
   "source": [
    "# write fast method\n",
    "def num_dist_fast(L):\n",
    "    a = set(L)\n",
    "    return len(a)\n",
    "L =[3,3,4,9,0,0,5,4]\n",
    "num_dist_fast(L)   "
   ]
  },
  {
   "cell_type": "code",
   "execution_count": 89,
   "metadata": {},
   "outputs": [
    {
     "name": "stdout",
     "output_type": "stream",
     "text": [
      "5\n",
      "5\n",
      "execution time for num_dist is : 0.0005159378051757812 seconds\n",
      "execution time for num_dist_fast is : 7.510185241699219e-05 seconds\n"
     ]
    }
   ],
   "source": [
    "# Creat two random lists of numbers for testing\n",
    "L2 =[3,3,4,9,0,0,5,4]\n",
    "import time\n",
    "# time the two methods\n",
    "start1 = time.time()\n",
    "print(num_dist(L2))\n",
    "end1 = time.time()\n",
    "\n",
    "start2 = time.time()\n",
    "print(num_dist_fast(L2))\n",
    "end2 = time.time()\n",
    "print(\"execution time for num_dist is :\",end1 -start1 , \"seconds\")\n",
    "print(\"execution time for num_dist_fast is :\",end2 -start2 , \"seconds\")\n",
    "\n",
    "#sets aren't faster than lists \n",
    " "
   ]
  },
  {
   "cell_type": "markdown",
   "metadata": {},
   "source": [
    "## Cython exercises"
   ]
  },
  {
   "cell_type": "markdown",
   "metadata": {},
   "source": [
    "### Exercise 1"
   ]
  },
  {
   "cell_type": "markdown",
   "metadata": {},
   "source": [
    "1. load the cython extension."
   ]
  },
  {
   "cell_type": "code",
   "execution_count": 90,
   "metadata": {},
   "outputs": [
    {
     "name": "stdout",
     "output_type": "stream",
     "text": [
      "The Cython extension is already loaded. To reload it, use:\n",
      "  %reload_ext Cython\n"
     ]
    }
   ],
   "source": [
    "%load_ext Cython"
   ]
  },
  {
   "cell_type": "markdown",
   "metadata": {},
   "source": [
    "2. Condidering the following polynome function:"
   ]
  },
  {
   "cell_type": "code",
   "execution_count": 91,
   "metadata": {},
   "outputs": [],
   "source": [
    "def poly(a,b):\n",
    "    return 10.5 * a + 3 * (b**2)"
   ]
  },
  {
   "cell_type": "markdown",
   "metadata": {},
   "source": [
    "- Create an equivalent Cython function of `poly` with name `poly_cy` without any cython improvement, just make its cell a cython cell."
   ]
  },
  {
   "cell_type": "code",
   "execution_count": 92,
   "id": "55fe0bb3",
   "metadata": {},
   "outputs": [],
   "source": [
    "%%cython\n",
    "def poly_cy(a,b):\n",
    "    return 10.5 * a + 3 * (b**2)\n",
    "    "
   ]
  },
  {
   "cell_type": "markdown",
   "metadata": {},
   "source": [
    "3. time the performance of Python and Cython version of the function, what is the factor of speed up here between the two verions."
   ]
  },
  {
   "cell_type": "code",
   "execution_count": 93,
   "metadata": {},
   "outputs": [
    {
     "name": "stdout",
     "output_type": "stream",
     "text": [
      " time performence of poly:  7.390975952148438e-05 seconds\n",
      " time performence of poly_cy:  6.890296936035156e-05 seconds\n"
     ]
    }
   ],
   "source": [
    "# write your code here\n",
    "import time\n",
    "a = 1\n",
    "b = 2\n",
    "start1 = time.time()\n",
    "poly(a,b)\n",
    "end1 = time.time()\n",
    "\n",
    "start2 = time.time()\n",
    "poly_cy(a,b)\n",
    "end2 = time.time()\n",
    "\n",
    "print(\" time performence of poly: \",end1 - start1, \"seconds\")\n",
    "print(\" time performence of poly_cy: \",end2 - start2, \"seconds\")\n"
   ]
  },
  {
   "cell_type": "markdown",
   "id": "3de8a9af",
   "metadata": {},
   "source": [
    "factor of speed is :"
   ]
  },
  {
   "cell_type": "markdown",
   "metadata": {},
   "source": [
    "4. Now lets work on another examples using loop.\n",
    "    - rewrite the same function below fib that calculate fibonacci series using cython, but now try to add type for the variables used inside it, add a prefix `_cy` to your new cython function."
   ]
  },
  {
   "cell_type": "code",
   "execution_count": 94,
   "metadata": {},
   "outputs": [],
   "source": [
    "def fib(n):\n",
    "    a, b = 1, 1\n",
    "    for i in range(n):\n",
    "        a, b = a + b,a \n",
    "    return a"
   ]
  },
  {
   "cell_type": "code",
   "execution_count": 107,
   "id": "38cfed26",
   "metadata": {},
   "outputs": [
    {
     "name": "stdout",
     "output_type": "stream",
     "text": [
      "The Cython extension is already loaded. To reload it, use:\n",
      "  %reload_ext Cython\n"
     ]
    }
   ],
   "source": [
    "%load_ext Cython"
   ]
  },
  {
   "cell_type": "code",
   "execution_count": 103,
   "metadata": {},
   "outputs": [],
   "source": [
    "%%cython \n",
    "cpdef int fib_cy(int n): \n",
    "    cdef int a,b,i\n",
    "    for i in range(n):\n",
    "        a,b=a+b,a\n",
    "    return a"
   ]
  },
  {
   "cell_type": "markdown",
   "metadata": {},
   "source": [
    "- time the two function for fibonacci series, with n = 20, what is the factor of speed now, What do you think?"
   ]
  },
  {
   "cell_type": "code",
   "execution_count": 105,
   "metadata": {},
   "outputs": [
    {
     "name": "stdout",
     "output_type": "stream",
     "text": [
      "65.4 ns ± 2.27 ns per loop (mean ± std. dev. of 7 runs, 10,000,000 loops each)\n",
      "1.22 µs ± 25.4 ns per loop (mean ± std. dev. of 7 runs, 1,000,000 loops each)\n"
     ]
    }
   ],
   "source": [
    "# write your code here\n",
    "%timeit fib_cy(20)\n",
    "%timeit fib(20)  "
   ]
  },
  {
   "cell_type": "markdown",
   "metadata": {},
   "source": [
    "5. Recursive functions are functions that call themselves during their execution. Another interesting property of the Fibonacci series is that it can be written as a recursive function. That’s because each item depends on the values of other items (namely item n-1 and item n-2)\n",
    "\n",
    "- Rewrite the fib function using recursion. Is it faster than the non-recursive version? Does Cythonizing it give even more of an advantage? "
   ]
  },
  {
   "cell_type": "code",
   "execution_count": 111,
   "id": "0815cf7e",
   "metadata": {},
   "outputs": [
    {
     "name": "stdout",
     "output_type": "stream",
     "text": [
      "The Cython extension is already loaded. To reload it, use:\n",
      "  %reload_ext Cython\n"
     ]
    }
   ],
   "source": [
    "%load_ext Cython"
   ]
  },
  {
   "cell_type": "code",
   "execution_count": 112,
   "metadata": {},
   "outputs": [],
   "source": [
    "# write your code here\n",
    "def fibo_rec(n):\n",
    "    if n <= 1:\n",
    "        return n\n",
    "    return(fibo_rec(n-1) + fibo_rec(n-2))\n"
   ]
  },
  {
   "cell_type": "code",
   "execution_count": 113,
   "id": "7f6aea36",
   "metadata": {},
   "outputs": [],
   "source": [
    "%%cython\n",
    "cpdef int fibo_rec_opt(int n):\n",
    "    if n <= 1:\n",
    "        return n \n",
    "    return(fibo_rec_opt(n-1) + fibo_rec_opt(n-2))"
   ]
  },
  {
   "cell_type": "code",
   "execution_count": 115,
   "id": "61806096",
   "metadata": {},
   "outputs": [
    {
     "name": "stdout",
     "output_type": "stream",
     "text": [
      "1.65 µs ± 11.8 ns per loop (mean ± std. dev. of 7 runs, 1,000,000 loops each)\n",
      "75.3 ns ± 0.354 ns per loop (mean ± std. dev. of 7 runs, 10,000,000 loops each)\n"
     ]
    }
   ],
   "source": [
    "%timeit fibo_rec(5)\n",
    "%timeit fibo_rec_opt(5)"
   ]
  },
  {
   "cell_type": "markdown",
   "metadata": {},
   "source": [
    "### Exercise 2\n",
    "\n",
    "- Monte Carlo methods are a broad class of computational algorithms that rely on repeated random sampling to obtain numerical results. \n",
    "- One of the basic examples of getting started with the Monte Carlo algorithm is the estimation of Pi.\n",
    "\n",
    "**Estimation of Pi**\n",
    "\n",
    "- The idea is to simulate random (x, y) points in a 2-D plane with domain as a square of side 1 unit. \n",
    "- Imagine a circle inside the same domain with same diameter and inscribed into the square. \n",
    "- We then calculate the ratio of number points that lied inside the circle and total number of generated points. \n",
    "- Refer to the image below:\n",
    "\n",
    "![demo](../data/MonteCarloPlot.png)\n",
    "\n",
    "We know that area of the square is 1 unit sq while that of circle is $\\pi \\ast  (\\frac{1}{2})^{2} = \\frac{\\pi}{4}$. Now for a very large number of generated points,\n",
    "\n",
    "![demo](../data/MonteCarloCalc.png)\n",
    "\n",
    "\n",
    "## The Algorithm\n",
    "\n",
    "1. Initialize cile_points, square_points and interval to 0.\n",
    "2. Generate random point x.\n",
    "3. Generate random point y.\n",
    "4. Calculate d = x*x + y*y.\n",
    "5. If d <= 1, increment circle_points.\n",
    "6. Increment square_points.\n",
    "7. Increment interval.\n",
    "8. If increment < NO_OF_ITERATIONS, repeat from 2.\n",
    "9. Calculate pi = 4*(circle_points/square_points).\n",
    "10. Terminate."
   ]
  },
  {
   "cell_type": "markdown",
   "metadata": {},
   "source": [
    "**Your mission:** time the function `monte_carlo_pi`, identify the bottlenecks and create a new version using cython functionality to speed up monte carlo simulation for PI, use 100,000 points and compare the speed up factor between python and cython, considering the following optimizations:\n",
    "- add type for variables used.\n",
    "- add type for the function\n",
    "- use c rand function instead of python rand function.\n",
    " \n",
    "*Hint: you can import function from C libraries using the following approach `from libc.<name of c library> cimport <library function name>`, replace the holders `<>` with the right identities for the current problem*"
   ]
  },
  {
   "cell_type": "code",
   "execution_count": 156,
   "id": "e944b288",
   "metadata": {},
   "outputs": [
    {
     "name": "stdout",
     "output_type": "stream",
     "text": [
      "The Cython extension is already loaded. To reload it, use:\n",
      "  %reload_ext Cython\n"
     ]
    }
   ],
   "source": [
    "%load_ext Cython"
   ]
  },
  {
   "cell_type": "code",
   "execution_count": 178,
   "metadata": {},
   "outputs": [
    {
     "data": {
      "text/plain": [
       "3.142872"
      ]
     },
     "execution_count": 178,
     "metadata": {},
     "output_type": "execute_result"
    }
   ],
   "source": [
    "import random\n",
    "def monte_carlo_pi(nsamples):\n",
    "    pi = 0\n",
    "    INTERVAL= 1000\n",
    "    circle_points= 0\n",
    "    square_points= 0\n",
    "    for i in range(INTERVAL ** 2):\n",
    "        #generation of random x,y\n",
    "        x= random.uniform(-1,1)\n",
    "        y= random.uniform(-1,1)\n",
    "        \n",
    "        d = x*x + y*y\n",
    "        if d <= 1:\n",
    "            circle_points +=1\n",
    "        square_points +=1\n",
    "        INTERVAL += 1\n",
    "\n",
    "    pi = 4* circle_points / square_points\n",
    "    return pi\n",
    "monte_carlo_pi(1000)"
   ]
  },
  {
   "cell_type": "code",
   "execution_count": 179,
   "id": "dfbeda59",
   "metadata": {},
   "outputs": [],
   "source": [
    "\n",
    "%%cython\n",
    "import random\n",
    "cpdef float monte_carlo_pi_opt(int nsamples):\n",
    "    cdef int circle_points,square_points = 0\n",
    "    cdef int INTERVAL = 1000\n",
    "    cdef float x\n",
    "    cdef float y\n",
    "    cdef float d\n",
    "    cdef float pi\n",
    "    for i in range(INTERVAL ** 2):\n",
    "        #generation of random x,y\n",
    "        x = random.uniform(-1,1)\n",
    "        y = random.uniform(-1,1)\n",
    "        \n",
    "        d = x*x + y*y\n",
    "        if d <= 1:\n",
    "            circle_points +=1\n",
    "        square_points +=1\n",
    "        INTERVAL += 1\n",
    "\n",
    "    pi = 4* circle_points / square_points\n",
    "    return pi\n",
    "    \n",
    "print(monte_carlo_pi_opt(1000))\n",
    "\n"
   ]
  },
  {
   "cell_type": "code",
   "execution_count": 172,
   "id": "0275cade",
   "metadata": {},
   "outputs": [
    {
     "name": "stdout",
     "output_type": "stream",
     "text": [
      "465 ms ± 31.4 ms per loop (mean ± std. dev. of 7 runs, 1 loop each)\n",
      "912 ms ± 135 ms per loop (mean ± std. dev. of 7 runs, 1 loop each)\n"
     ]
    }
   ],
   "source": [
    "%timeit monte_carlo_pi_opt(1000)\n",
    "%timeit monte_carlo_pi(1000)"
   ]
  },
  {
   "cell_type": "markdown",
   "metadata": {},
   "source": [
    "## Numba exercises"
   ]
  },
  {
   "cell_type": "markdown",
   "metadata": {},
   "source": [
    "### Exercise 1\n",
    "\n",
    "Previously we considered how to approximateby Monte Carlo.\n",
    "\n",
    "- Use the same idea here, but make the code efficient using Numba.\n",
    "- Compare speed with and without Numba when the sample size is large."
   ]
  },
  {
   "cell_type": "code",
   "execution_count": 180,
   "metadata": {},
   "outputs": [
    {
     "data": {
      "text/plain": [
       "3.140924"
      ]
     },
     "execution_count": 180,
     "metadata": {},
     "output_type": "execute_result"
    }
   ],
   "source": [
    "# Your code here\n",
    "import random\n",
    "from numba import jit\n",
    "@jit  \n",
    "def monte_carlo_pi_nb(nsamples):\n",
    "    pi = 0\n",
    "    INTERVAL= 1000\n",
    "    circle_points= 0\n",
    "    square_points= 0\n",
    "    for i in range(INTERVAL ** 2):\n",
    "        #generation of random x,y\n",
    "        x= random.uniform(-1,1)\n",
    "        y= random.uniform(-1,1)\n",
    "        \n",
    "        d = x*x + y*y\n",
    "        if d <= 1:\n",
    "            circle_points +=1\n",
    "        square_points +=1\n",
    "        INTERVAL += 1\n",
    "\n",
    "    pi = 4* circle_points / square_points\n",
    "    return pi\n",
    "monte_carlo_pi(1000)"
   ]
  },
  {
   "cell_type": "code",
   "execution_count": 181,
   "id": "064d3ffc",
   "metadata": {},
   "outputs": [
    {
     "name": "stdout",
     "output_type": "stream",
     "text": [
      "16.6 ms ± 660 µs per loop (mean ± std. dev. of 7 runs, 100 loops each)\n",
      "521 ms ± 9.65 ms per loop (mean ± std. dev. of 7 runs, 1 loop each)\n"
     ]
    }
   ],
   "source": [
    "%timeit monte_carlo_pi_nb(3000)\n",
    "%timeit monte_carlo_pi_opt(3000)\n"
   ]
  },
  {
   "cell_type": "markdown",
   "metadata": {},
   "source": [
    "### Exercise 2\n",
    "\n",
    "In the [Introduction to Quantitative Economics](https://python.quantecon.org/intro.html) with Python lecture series you can learn all about finite-state Markov chains.\n",
    "\n",
    "For now, let's just concentrate on simulating a very simple example of such a chain.\n",
    "\n",
    "Suppose that the volatility of returns on an asset can be in one of two regimes — high or low.\n",
    "\n",
    "The transition probabilities across states are as follows ![markov](../data/markov.png)\n",
    "\n",
    "For example, let the period length be one day, and suppose the current state is high.\n",
    "\n",
    "We see from the graph that the state tomorrow will be\n",
    "\n",
    "- high with probability 0.8\n",
    "\n",
    "- low with probability 0.2\n",
    "\n",
    "Your task is to simulate a sequence of daily volatility states according to this rule.\n",
    "\n",
    "Set the length of the sequence to `n = 1_000_000` and start in the high state.\n",
    "\n",
    "Implement a pure Python version and a Numba version, and compare speeds.\n",
    "\n",
    "To test your code, evaluate the fraction of time that the chain spends in the low state.\n",
    "\n",
    "If your code is correct, it should be about 2/3.\n",
    "\n",
    "Hints:\n",
    "\n",
    "- Represent the low state as 0 and the high state as 1.\n",
    "\n",
    "- If you want to store integers in a NumPy array and then apply JIT compilation, use `x = np.empty(n, dtype=np.int_)`.\n"
   ]
  },
  {
   "cell_type": "markdown",
   "metadata": {},
   "source": [
    "## Additionnal exercice"
   ]
  },
  {
   "cell_type": "markdown",
   "metadata": {},
   "source": []
  }
 ],
 "metadata": {
  "hide_input": false,
  "kernelspec": {
   "display_name": "Python 3",
   "language": "python",
   "name": "python3"
  },
  "language_info": {
   "codemirror_mode": {
    "name": "ipython",
    "version": 3
   },
   "file_extension": ".py",
   "mimetype": "text/x-python",
   "name": "python",
   "nbconvert_exporter": "python",
   "pygments_lexer": "ipython3",
   "version": "3.9.10"
  }
 },
 "nbformat": 4,
 "nbformat_minor": 5
}
